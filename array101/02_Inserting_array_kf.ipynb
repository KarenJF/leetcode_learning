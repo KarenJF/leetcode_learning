{
 "cells": [
  {
   "cell_type": "markdown",
   "metadata": {},
   "source": [
    "# Basic Array Operations\n",
    "\n",
    "## Array Insertions\n",
    "Inserting a new element into an Array can take many forms:\n",
    "- Inserting a new element at the end of the Array.\n",
    "- Inserting a new element at the beginning of the Array.\n",
    "- Inserting a new element at any given index inside the Array.\n",
    "\n",
    "### 1. Inserting at the End of an Array\n",
    "At any point in time, we know the index of the last element of the Array, as we've kept track of it in our length variable. All we need to do for inserting an element at the end is to assign the new element to one index past the current last element.\n",
    "\n",
    "### 2. Inserting at the Start of an Array\n",
    "To insert an element at the start of an Array, we'll need to shift all other elements in the Array to the right by one index to create space for the new element. This is a very costly operation, since each of the existing elements has to be shifted one step to the right. The need to shift everything implies that this is not a constant time operation. In fact, the time taken for insertion at the beginning of an Array will be proportional to the length of the Array. In terms of time complexity analysis, this is a linear time complexity: O(N), where N is the length of the Array.\n",
    "\n",
    "### 3. Inserting Anywhere in the Array\n",
    "Similarly, for inserting at any given index, we first need to shift all the elements from that index onwards one position to the right. Once the space is created for the new element, we proceed with the insertion. If you think about it, insertion at the beginning is basically a special case of inserting an element at a given index—in that case, the given index was 0.\n",
    "\n",
    "Again, this is also a costly operation since we could potentially have to shift almost all the other elements to the right before actually inserting the new element. As your saw above, shifting lots of elements one place to the right adds to the time complexity of the insertion task."
   ]
  },
  {
   "cell_type": "markdown",
   "metadata": {},
   "source": [
    "### Example 1: Duplicate Zeros"
   ]
  },
  {
   "cell_type": "raw",
   "metadata": {},
   "source": [
    "Given a fixed length array arr of integers, duplicate each occurrence of zero, shifting the remaining elements to the right.\n",
    "\n",
    "Note that elements beyond the length of the original array are not written.\n",
    "\n",
    "Do the above modifications to the input array in place, do not return anything from your function.\n",
    "\n",
    " \n",
    "\n",
    "Example 1:\n",
    "\n",
    "Input: [1,0,2,3,0,4,5,0]\n",
    "Output: null\n",
    "Explanation: After calling your function, the input array is modified to: [1,0,0,2,3,0,0,4]\n",
    "Example 2:\n",
    "\n",
    "Input: [1,2,3]\n",
    "Output: null\n",
    "Explanation: After calling your function, the input array is modified to: [1,2,3]\n",
    " \n",
    "\n",
    "Note:\n",
    "\n",
    "1 <= arr.length <= 10000\n",
    "0 <= arr[i] <= 9"
   ]
  },
  {
   "cell_type": "code",
   "execution_count": 22,
   "metadata": {},
   "outputs": [],
   "source": [
    "arr = [1,0,2,3,0,4,5,0]"
   ]
  },
  {
   "cell_type": "code",
   "execution_count": 23,
   "metadata": {},
   "outputs": [],
   "source": [
    "def duplicateZeros(arr):\n",
    "    result = []\n",
    "\n",
    "    for num in arr: \n",
    "        result.append(num)\n",
    "        if num == 0: \n",
    "            result.append(num)\n",
    "    k = len(arr)\n",
    "    arr[:] = result[:k]"
   ]
  },
  {
   "cell_type": "code",
   "execution_count": 24,
   "metadata": {},
   "outputs": [],
   "source": [
    "def duplicateZeros(arr):\n",
    "    n = len(arr)\n",
    "    i = 0\n",
    "    \n",
    "    while i < n: \n",
    "        if arr[i] == 0:\n",
    "            # pop out the last element \n",
    "            arr.pop()\n",
    "            # insert zero at the current index \n",
    "            arr.insert(i,0)\n",
    "            i +=1\n",
    "        i +=1\n",
    "    return arr"
   ]
  },
  {
   "cell_type": "code",
   "execution_count": 25,
   "metadata": {},
   "outputs": [
    {
     "data": {
      "text/plain": [
       "[1, 0, 0, 2, 3, 0, 0, 4]"
      ]
     },
     "execution_count": 25,
     "metadata": {},
     "output_type": "execute_result"
    }
   ],
   "source": [
    "duplicateZeros(arr)"
   ]
  },
  {
   "cell_type": "code",
   "execution_count": 26,
   "metadata": {},
   "outputs": [
    {
     "data": {
      "text/plain": [
       "[1, 0, 0, 2, 3, 0, 0, 4]"
      ]
     },
     "execution_count": 26,
     "metadata": {},
     "output_type": "execute_result"
    }
   ],
   "source": [
    "arr"
   ]
  },
  {
   "cell_type": "markdown",
   "metadata": {},
   "source": [
    "### Example 2: merged sorted array"
   ]
  },
  {
   "cell_type": "raw",
   "metadata": {},
   "source": [
    "Given two sorted integer arrays nums1 and nums2, merge nums2 into nums1 as one sorted array.\n",
    "\n",
    "Note:\n",
    "\n",
    "The number of elements initialized in nums1 and nums2 are m and n respectively.\n",
    "You may assume that nums1 has enough space (size that is greater or equal to m + n) to hold additional elements from nums2.\n",
    "Example:\n",
    "\n",
    "Input:\n",
    "nums1 = [1,2,3,0,0,0], m = 3\n",
    "nums2 = [2,5,6],       n = 3\n",
    "\n",
    "Output: [1,2,2,3,5,6]"
   ]
  },
  {
   "cell_type": "code",
   "execution_count": 5,
   "metadata": {},
   "outputs": [],
   "source": [
    "def merge(nums1, m, nums2, n):\n",
    "    aIndex = m - 1\n",
    "    bIndex = n - 1\n",
    "    mergeIndex = m + n - 1\n",
    "    \n",
    "    while aIndex >=0 and bIndex >=0:\n",
    "        if nums2[bIndex]>=nums1[aIndex]:\n",
    "            nums1[mergeIndex] = nums2[bIndex]\n",
    "            bIndex -= 1\n",
    "            mergeIndex -= 1\n",
    "        else:\n",
    "            nums1[mergeIndex] = nums1[aIndex]\n",
    "            aIndex -= 1\n",
    "            mergeIndex -=1\n",
    "        \n",
    "    while bIndex >= 0 :\n",
    "        nums1[mergeIndex] = nums2[bIndex]\n",
    "        bIndex -= 1\n",
    "        mergeIndex -= 1"
   ]
  },
  {
   "cell_type": "code",
   "execution_count": 28,
   "metadata": {},
   "outputs": [],
   "source": [
    "nums1 = [1,2,3,0,0,0]\n",
    "m = 3 \n",
    "nums2 = [2,5,6]\n",
    "n = 3"
   ]
  },
  {
   "cell_type": "code",
   "execution_count": 7,
   "metadata": {},
   "outputs": [],
   "source": [
    "merge(nums1, m, nums2, n)"
   ]
  },
  {
   "cell_type": "code",
   "execution_count": 8,
   "metadata": {},
   "outputs": [
    {
     "data": {
      "text/plain": [
       "[1, 2, 2, 3, 5, 6]"
      ]
     },
     "execution_count": 8,
     "metadata": {},
     "output_type": "execute_result"
    }
   ],
   "source": [
    "nums1"
   ]
  },
  {
   "cell_type": "code",
   "execution_count": 27,
   "metadata": {},
   "outputs": [],
   "source": [
    "# second solutoin \n",
    "def merge(nums1, m, num2, n):\n",
    "    aIndex = m - 1\n",
    "    bIndex = n - 1\n",
    "    mergeIndex = m + n - 1\n",
    "    \n",
    "    while aIndex >=0 and bIndex >=0:\n",
    "        if nums2[bIndex] >= nums1[aIndex]:\n",
    "            nums1[mergeIndex] = nums2[bIndex]\n",
    "            bIndex -=1\n",
    "            mergeIndex -=1\n",
    "        \n",
    "        else:\n",
    "            nums1[mergeIndex] = nums1[aIndex]\n",
    "            aIndex -=1\n",
    "            mergeIndex -=1\n",
    "        \n",
    "    if bIndex >=0:\n",
    "        nums1[:bIndex + 1] = nums2[:bIndex + 1]"
   ]
  },
  {
   "cell_type": "code",
   "execution_count": 29,
   "metadata": {},
   "outputs": [],
   "source": [
    "merge(nums1, m, nums2, n)"
   ]
  },
  {
   "cell_type": "code",
   "execution_count": 30,
   "metadata": {},
   "outputs": [
    {
     "data": {
      "text/plain": [
       "[1, 2, 2, 3, 5, 6]"
      ]
     },
     "execution_count": 30,
     "metadata": {},
     "output_type": "execute_result"
    }
   ],
   "source": [
    "nums1"
   ]
  },
  {
   "cell_type": "code",
   "execution_count": null,
   "metadata": {},
   "outputs": [],
   "source": []
  }
 ],
 "metadata": {
  "kernelspec": {
   "display_name": "Python 3",
   "language": "python",
   "name": "python3"
  },
  "language_info": {
   "codemirror_mode": {
    "name": "ipython",
    "version": 3
   },
   "file_extension": ".py",
   "mimetype": "text/x-python",
   "name": "python",
   "nbconvert_exporter": "python",
   "pygments_lexer": "ipython3",
   "version": "3.7.7"
  }
 },
 "nbformat": 4,
 "nbformat_minor": 4
}
