{
 "cells": [
  {
   "cell_type": "markdown",
   "metadata": {},
   "source": [
    "# Search in an Array\n",
    "\n",
    "## Linear Search\n",
    "If the index is not known, which is the case most of the time, then we can check every element in the Array. We continue checking elements until we find the element we're looking for, or we reach the end of the Array. This technique for finding an element by checking through all elements one by one is known as the linear search algorithm. In the worst case, a linear search ends up checking the entire Array. Therefore, the time complexity for a linear search is O(N).\n",
    "\n",
    "## Binary Search\n",
    "There is another way of searching an Array. If the elements in the Array are in sorted order, then we can use binary search. Binary search is where we repeatedly look at the middle element in the Array, and determine whether the element we're looking for must be to the left, or to the right. Each time we do this, we're able to halve the number of elements we still need to search, making binary search a lot faster than linear search!\n",
    "\n",
    "**The downside of binary search though is that it only works if the data is sorted.** If we only need to perform a single search, then it's faster to just do a linear search, as it takes longer to sort than to linear search. If we're going to be performing a lot of searches, it is often worth sorting the data first so that we can use binary search for the repeated searches."
   ]
  },
  {
   "cell_type": "markdown",
   "metadata": {},
   "source": [
    "### Example 1: Check If N and Its Double Exist"
   ]
  },
  {
   "cell_type": "raw",
   "metadata": {},
   "source": [
    "Given an array arr of integers, check if there exists two integers N and M such that N is the double of M ( i.e. N = 2 * M).\n",
    "\n",
    "More formally check if there exists two indices i and j such that :\n",
    "\n",
    "i != j\n",
    "0 <= i, j < arr.length\n",
    "arr[i] == 2 * arr[j]\n",
    " \n",
    "\n",
    "Example 1:\n",
    "\n",
    "Input: arr = [10,2,5,3]\n",
    "Output: true\n",
    "Explanation: N = 10 is the double of M = 5,that is, 10 = 2 * 5.\n",
    "Example 2:\n",
    "\n",
    "Input: arr = [7,1,14,11]\n",
    "Output: true\n",
    "Explanation: N = 14 is the double of M = 7,that is, 14 = 2 * 7.\n",
    "Example 3:\n",
    "\n",
    "Input: arr = [3,1,7,11]\n",
    "Output: false\n",
    "Explanation: In this case does not exist N and M, such that N = 2 * M.\n",
    " \n",
    "\n",
    "Constraints:\n",
    "\n",
    "2 <= arr.length <= 500\n",
    "-10^3 <= arr[i] <= 10^3"
   ]
  },
  {
   "cell_type": "code",
   "execution_count": 13,
   "metadata": {},
   "outputs": [],
   "source": [
    "def checkIfExist(arr):\n",
    "    for i in range(len(arr)-1):\n",
    "        for j in range(i+1, len(arr)):\n",
    "            if arr[i] == 2*arr[j] or arr[j] == 2*arr[i]:\n",
    "                print(arr[i], arr[j])\n",
    "                return True\n",
    "    return False"
   ]
  },
  {
   "cell_type": "code",
   "execution_count": 14,
   "metadata": {},
   "outputs": [],
   "source": [
    "arr = [-2,0,10,-19,4,6,-8]"
   ]
  },
  {
   "cell_type": "code",
   "execution_count": 15,
   "metadata": {},
   "outputs": [
    {
     "data": {
      "text/plain": [
       "False"
      ]
     },
     "execution_count": 15,
     "metadata": {},
     "output_type": "execute_result"
    }
   ],
   "source": [
    "checkIfExist(arr)"
   ]
  },
  {
   "cell_type": "code",
   "execution_count": 16,
   "metadata": {},
   "outputs": [],
   "source": [
    "def checkIfExist(arr):\n",
    "    for num in arr: \n",
    "        if num != 0:\n",
    "            if num * 2 in arr: \n",
    "                return True\n",
    "    \n",
    "        if arr == [0,0]:\n",
    "            return True\n",
    "\n",
    "    return False\n",
    "    \n",
    "    "
   ]
  },
  {
   "cell_type": "code",
   "execution_count": 17,
   "metadata": {},
   "outputs": [
    {
     "data": {
      "text/plain": [
       "False"
      ]
     },
     "execution_count": 17,
     "metadata": {},
     "output_type": "execute_result"
    }
   ],
   "source": [
    "checkIfExist(arr)"
   ]
  },
  {
   "cell_type": "code",
   "execution_count": 18,
   "metadata": {},
   "outputs": [],
   "source": [
    "arr = [-2,0,10,-19,4,6,-8]"
   ]
  },
  {
   "cell_type": "code",
   "execution_count": 19,
   "metadata": {},
   "outputs": [
    {
     "data": {
      "text/plain": [
       "False"
      ]
     },
     "execution_count": 19,
     "metadata": {},
     "output_type": "execute_result"
    }
   ],
   "source": [
    "checkIfExist(arr)"
   ]
  },
  {
   "cell_type": "code",
   "execution_count": 20,
   "metadata": {},
   "outputs": [],
   "source": [
    "def checkIfExist(arr):\n",
    "    import collections\n",
    "    s = collections.Counter(arr)\n",
    "    # if we have more than 1 zero, we have element that's double of themselve, and should return True\n",
    "    if s[0] > 1: \n",
    "        return True\n",
    "    \n",
    "    # for every num in arr, if we found their double in the counter dictionary, we return true\n",
    "    for num in arr: \n",
    "        if s[num*2] and num!=0:\n",
    "            return True\n",
    "    \n",
    "    return False"
   ]
  },
  {
   "cell_type": "code",
   "execution_count": 21,
   "metadata": {},
   "outputs": [
    {
     "data": {
      "text/plain": [
       "False"
      ]
     },
     "execution_count": 21,
     "metadata": {},
     "output_type": "execute_result"
    }
   ],
   "source": [
    "checkIfExist(arr)"
   ]
  },
  {
   "cell_type": "markdown",
   "metadata": {},
   "source": [
    "### Example 2: Valid Mountain Array"
   ]
  },
  {
   "cell_type": "raw",
   "metadata": {},
   "source": [
    "Given an array A of integers, return true if and only if it is a valid mountain array.\n",
    "\n",
    "Recall that A is a mountain array if and only if:\n",
    "\n",
    "A.length >= 3\n",
    "There exists some i with 0 < i < A.length - 1 such that:\n",
    "A[0] < A[1] < ... A[i-1] < A[i]\n",
    "A[i] > A[i+1] > ... > A[A.length - 1]\n",
    "\n",
    "Example 1:\n",
    "\n",
    "Input: [2,1]\n",
    "Output: false\n",
    "Example 2:\n",
    "\n",
    "Input: [3,5,5]\n",
    "Output: false\n",
    "Example 3:\n",
    "\n",
    "Input: [0,3,2,1]\n",
    "Output: true"
   ]
  },
  {
   "cell_type": "code",
   "execution_count": null,
   "metadata": {},
   "outputs": [],
   "source": [
    "def validMountainArray(A):\n",
    "    if len(A) < 3: \n",
    "        return False\n",
    "    \n",
    "    if A[0] > A[1]:\n",
    "        return False\n",
    "    \n",
    "    local_max = A[0]\n",
    "    local_min = A[-1]\n",
    "    for i in range(1, len(A)-1):\n",
    "        if A[i] > local_max: \n",
    "            local_max = A[i]\n",
    "        else:\n",
    "            local_min = A[i]\n",
    "            for j in range(i+1, len(A)):\n",
    "                if A[j] < local_min: \n",
    "                    local_min = A[j]\n",
    "                else:\n",
    "                    return False\n",
    "    \n",
    "    if local_max > local_min:\n",
    "        return True"
   ]
  },
  {
   "cell_type": "code",
   "execution_count": null,
   "metadata": {},
   "outputs": [],
   "source": [
    "class Solution(object):\n",
    "    def validMountainArray(self, A):\n",
    "        N = len(A)\n",
    "        i = 0\n",
    "\n",
    "        # walk up\n",
    "        while i+1 < N and A[i] < A[i+1]:\n",
    "            i += 1\n",
    "\n",
    "        # peak can't be first or last\n",
    "        if i == 0 or i == N-1:\n",
    "            return False\n",
    "\n",
    "        # walk down\n",
    "        while i+1 < N and A[i] > A[i+1]:\n",
    "            i += 1\n",
    "\n",
    "        return i == N-1"
   ]
  },
  {
   "cell_type": "code",
   "execution_count": 21,
   "metadata": {},
   "outputs": [],
   "source": [
    "def validMountainArray(A):\n",
    "    N = len(A)\n",
    "    i = 0\n",
    "    \n",
    "    #walk up\n",
    "    while i + 1 < N and A[i] < A[i+1]:\n",
    "        i +=1\n",
    "    \n",
    "    # peak can't be first or last\n",
    "    if i == 0 or i == N - 1:\n",
    "        return False\n",
    "    \n",
    "    # walk down \n",
    "    while i + 1 < N and A[i] > A[i+1]:\n",
    "        i +=1\n",
    "        \n",
    "    return i==N-1"
   ]
  },
  {
   "cell_type": "code",
   "execution_count": 23,
   "metadata": {},
   "outputs": [],
   "source": [
    "A = [0,3,2,1]"
   ]
  },
  {
   "cell_type": "code",
   "execution_count": 23,
   "metadata": {},
   "outputs": [
    {
     "data": {
      "text/plain": [
       "True"
      ]
     },
     "execution_count": 23,
     "metadata": {},
     "output_type": "execute_result"
    }
   ],
   "source": [
    "validMountainArray(A)"
   ]
  },
  {
   "cell_type": "code",
   "execution_count": 25,
   "metadata": {},
   "outputs": [],
   "source": [
    "def validMountainArray(A):\n",
    "    \n",
    "    n = len(A)\n",
    "    if n <3:\n",
    "        return False\n",
    "    \n",
    "    peak = A.index(max(A))\n",
    "\n",
    "    # peak can't be first and last\n",
    "    if peak == 0 or peak == n-1:\n",
    "        return False\n",
    "    \n",
    "    # check climb up \n",
    "    for i in range(0, peak):\n",
    "        if A[i]>=A[i+1]:\n",
    "            return False\n",
    "    \n",
    "    # climb down\n",
    "    for i in range(peak, n-1):\n",
    "        if A[i] <= A[i + 1]:\n",
    "            return False\n",
    "    \n",
    "    return True\n",
    "        "
   ]
  },
  {
   "cell_type": "code",
   "execution_count": 26,
   "metadata": {},
   "outputs": [
    {
     "data": {
      "text/plain": [
       "True"
      ]
     },
     "execution_count": 26,
     "metadata": {},
     "output_type": "execute_result"
    }
   ],
   "source": [
    "validMountainArray(A)"
   ]
  },
  {
   "cell_type": "code",
   "execution_count": null,
   "metadata": {},
   "outputs": [],
   "source": []
  }
 ],
 "metadata": {
  "kernelspec": {
   "display_name": "Python 3",
   "language": "python",
   "name": "python3"
  },
  "language_info": {
   "codemirror_mode": {
    "name": "ipython",
    "version": 3
   },
   "file_extension": ".py",
   "mimetype": "text/x-python",
   "name": "python",
   "nbconvert_exporter": "python",
   "pygments_lexer": "ipython3",
   "version": "3.7.7"
  }
 },
 "nbformat": 4,
 "nbformat_minor": 4
}
